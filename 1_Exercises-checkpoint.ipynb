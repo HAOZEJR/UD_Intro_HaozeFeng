{
 "cells": [
  {
   "cell_type": "markdown",
   "id": "38e188a5",
   "metadata": {},
   "source": [
    "# Exercise 00\n",
    "Write a piece of code that allocates a list of 20 integers and initializes each element by its index multiplied by 5. Print the result."
   ]
  },
  {
   "cell_type": "code",
   "execution_count": 1,
   "id": "01aa4f35",
   "metadata": {},
   "outputs": [
    {
     "name": "stdout",
     "output_type": "stream",
     "text": [
      "[0, 5, 10, 15, 20, 25, 30, 35, 40, 45, 50, 55, 60, 65, 70, 75, 80, 85, 90, 95]\n"
     ]
    }
   ],
   "source": [
    "result_list = []\n",
    "\n",
    "for i in range(20):\n",
    "   \n",
    "    value = i * 5\n",
    "\n",
    "    result_list.append(value)\n",
    "\n",
    "print(result_list)"
   ]
  },
  {
   "cell_type": "markdown",
   "id": "529d91ae",
   "metadata": {},
   "source": [
    "# Exercise 01\n",
    "Define a function that takes an integer as input, prints  all integers that it is divisable by, and returns the largest one."
   ]
  },
  {
   "cell_type": "code",
   "execution_count": null,
   "id": "30e79132",
   "metadata": {},
   "outputs": [],
   "source": [
    "def find_divisibles_and_return_largest(n):\n",
    "    largest_divisible = 1 \n",
    "\n",
    "    print(\"Integers that\", n, \"is divisible by:\")\n",
    "\n",
    "    for i in range(1, n + 1):\n",
    "        if n % i == 0:\n",
    "            print(i)\n",
    "            largest_divisible = i \n",
    "\n",
    "    return largest_divisible\n",
    "\n",
    "input_number = int(input(\"Enter an integer: \"))\n",
    "largest = find_divisibles_and_return_largest(input_number)\n",
    "print(\"The largest integer divisible by\", input_number, \"is:\", largest)"
   ]
  },
  {
   "cell_type": "markdown",
   "id": "cfbe30d4",
   "metadata": {},
   "source": [
    "# Exercise 02\n",
    "- create a dictionary with 6 keys and values of your choice\n",
    "- write a function that takes a dictionary and a value as input and returns whether the value occurs as a key in the dictionary\n",
    "- write a function that takes a dictionary as input, and returns the dictionary but the keys are swapped with their values (resolve the issue if a value occurs twice!)"
   ]
  },
  {
   "cell_type": "code",
   "execution_count": 4,
   "id": "2123f1c6",
   "metadata": {},
   "outputs": [
    {
     "name": "stdout",
     "output_type": "stream",
     "text": [
      "Does 'fruit' occur as a key in the dictionary? True\n",
      "Original dictionary:\n",
      "{'fruit': 'apple', 'car': ' LAMBORGHINI', 'vegetable': 'broccoli', 'weather': 'rainy', 'grain': 'rice'}\n",
      "Dictionary with keys and values swapped:\n",
      "{'apple': 'fruit', ' LAMBORGHINI': 'car', 'broccoli': 'vegetable', 'rainy': 'weather', 'rice': 'grain'}\n"
     ]
    }
   ],
   "source": [
    "sample_dict = { 'fruit': 'orange',\n",
    "    'fruit': 'apple',\n",
    "    'car': ' LAMBORGHINI',\n",
    "    'vegetable': 'broccoli',\n",
    "    'weather': 'rainy',\n",
    "    'grain': 'rice'}\n",
    "\n",
    "\n",
    "def check_value_in_dict(input_dict, value):\n",
    "    return value in input_dict.keys()\n",
    "\n",
    "\n",
    "def swap_keys_and_values(input_dict):\n",
    "    swapped_dict = {}\n",
    "    for key, value in input_dict.items():\n",
    "        if value in swapped_dict:\n",
    "            \n",
    "            if not isinstance(swapped_dict[value], list):\n",
    "                swapped_dict[value] = [swapped_dict[value]]\n",
    "            swapped_dict[value].append(key)\n",
    "        else:\n",
    "            swapped_dict[value] = key\n",
    "    return swapped_dict\n",
    "\n",
    "\n",
    "value_to_check = 'fruit'\n",
    "print(f\"Does '{value_to_check}' occur as a key in the dictionary? {check_value_in_dict(sample_dict, value_to_check)}\")\n",
    "\n",
    "swapped_result = swap_keys_and_values(sample_dict)\n",
    "print(\"Original dictionary:\")\n",
    "print(sample_dict)\n",
    "print(\"Dictionary with keys and values swapped:\")\n",
    "print(swapped_result)"
   ]
  },
  {
   "cell_type": "markdown",
   "id": "b4b4e426",
   "metadata": {},
   "source": [
    "# Exercise 03\n",
    "Define a function that creates a dictionary of the first n fibonacci numbers as values paired with their indices as keys. "
   ]
  },
  {
   "cell_type": "code",
   "execution_count": 7,
   "id": "7845b5a4",
   "metadata": {},
   "outputs": [
    {
     "name": "stdout",
     "output_type": "stream",
     "text": [
      "{0: 0, 1: 1, 2: 1, 3: 2, 4: 3, 5: 5, 6: 8, 7: 13, 8: 21, 9: 34}\n"
     ]
    }
   ],
   "source": [
    "def generate_fibonacci_dict(n):\n",
    "    fibonacci_dict = {}\n",
    "    a, b = 0, 1  \n",
    "    for i in range(n):\n",
    "        fibonacci_dict[i] = a  \n",
    "        a, b = b, a + b \n",
    "    return fibonacci_dict\n",
    "\n",
    "n = 10  \n",
    "fibonacci_dict = generate_fibonacci_dict(n)\n",
    "print(fibonacci_dict)"
   ]
  }
 ],
 "metadata": {
  "kernelspec": {
   "display_name": "Python 3 (ipykernel)",
   "language": "python",
   "name": "python3"
  },
  "language_info": {
   "codemirror_mode": {
    "name": "ipython",
    "version": 3
   },
   "file_extension": ".py",
   "mimetype": "text/x-python",
   "name": "python",
   "nbconvert_exporter": "python",
   "pygments_lexer": "ipython3",
   "version": "3.8.18"
  }
 },
 "nbformat": 4,
 "nbformat_minor": 5
}
